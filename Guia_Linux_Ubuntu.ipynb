{
 "cells": [
  {
   "cell_type": "markdown",
   "metadata": {},
   "source": [
    "# Guia Linux Ubuntu\n",
    "\n",
    "### Instalando Ubuntu\n",
    "\n",
    "#### Requerimientos minimos.\n",
    "\n",
    "- Procesador de al menos 2.x GHx con dos nucleos.\n",
    "- 2 GB de memoria RAM.\n",
    "- 25 GB de espacio libre.\n",
    "- Un USB con al menos 8 GB de espacio libre.\n",
    "- Tener un backup de nuestros archivos.\n",
    "- Acceso a internet para instalar los updates mientras la instalacion ocurre.\n",
    "\n",
    "#### Primeros pasos en Windows\n",
    "\n",
    "- Tenemos que descargar el ISO de Ubunto LTS, para esto nos dirijimos [aqui](https://www.ubuntu.com/download/desktop)\n",
    "- Tenemos que hacer un bootable USB flash drive, para esto bajamos [Rufus](https://rufus.ie/)\n",
    "- Insertamos nuestro USB.\n",
    "- Abrimos rufus y seleccionamos el USB que usaremos para crear el bootable USB.\n",
    "- En el campo de \"Boot selection\" seleccionamos la opcion de FreeDOS. \n",
    "- En el boton de \"Select\" seleccionamos el ISO de Ubuntu que acabamos de bajar.\n",
    "- En la opcion de \"File system\" seleccionamos FAT32(compatible con todos los OS)\n",
    "- Presionamos el boton de Start, si windows nos dice que Rufus ocupa mas librerias para poder crear el USB le decimos que si.\n",
    "- Cuando Windows no dice que seleccionemos el modo en el que queremos escribir la imagen, seleccionamos: \"Write in ISO image mode\"\n",
    "- Esperamos a que Rufus termine de crear el USB y listo, tenemos nuestro USB para poder instalar Ubuntu.\n",
    "\n",
    "#### Instalando Ubuntu\n",
    "\n",
    "- Insertamos el USB y reiniciamos nuestra PC, en caso de que nuestra PC no detecte el USB podemos hacer boot desde el BIOS o presionando alguna de las siguentes teclas: F12, F10, F2 e incluso Escape.\n",
    "- Lo primero que Ubuntu va a requerir es que seleccionemos el idioma de nuestro teclado, lo podemos seleccionar manualmente o podemos correr un pequeno test para detectar el idioma. \n",
    "- Despues nos va a preguntar las apps con las que queremos comenzar, seleccionamos: \"Normal Installation\". En la parte de abajo seleccionamos: \"Download Updates\" e \"Install third-party software\"\n",
    "- Despues seleecionamos la opcion de instalar junto con Windows, esto nos va a permitir tener ambos sitemas operativos en nuestra PC. El instalador nos dara la opcion de alocar la cantidad de espacio que queremos que Ubuntu tenga.\n",
    "- Seleccinamos nuestra ubicacion. \n",
    "- Creamos nuestras credenciales para iniciar sesion. \n",
    "- Esperamos a que la instalacion termine y LISTO!\n",
    "\n",
    "#### Puedo utilizar computadoras de Apple para estudiar AI?\n",
    "\n",
    "\n",
    "\n",
    "\n"
   ]
  },
  {
   "cell_type": "code",
   "execution_count": null,
   "metadata": {},
   "outputs": [],
   "source": []
  }
 ],
 "metadata": {
  "kernelspec": {
   "display_name": "Python 3",
   "language": "python",
   "name": "python3"
  },
  "language_info": {
   "codemirror_mode": {
    "name": "ipython",
    "version": 3
   },
   "file_extension": ".py",
   "mimetype": "text/x-python",
   "name": "python",
   "nbconvert_exporter": "python",
   "pygments_lexer": "ipython3",
   "version": "3.6.7"
  }
 },
 "nbformat": 4,
 "nbformat_minor": 2
}
