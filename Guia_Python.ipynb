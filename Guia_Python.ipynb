{
 "cells": [
  {
   "cell_type": "markdown",
   "metadata": {
    "collapsed": true
   },
   "source": [
    "# Guia Python\n",
    "\n",
    "### Para instalar Python 3\n",
    "En Linux/Ubuntu\n",
    "Por default Linux tiene instalado Python 3x, para checar la version:\n",
    "\n",
    "- Tecleamos: Ctrl + Alt + T\n",
    "- Escribimos: python3\n",
    "- Debemos recibir la version de Python que tenemos instalada\n",
    "\n",
    "### En Mac OS X\n",
    "Por default Mac OS X tiene instalado Python 3x, para checar la version:\n",
    "\n",
    "- Tecleamos: CMD + Espacio\n",
    "- Abrimos una terminal\n",
    "- Escribimos: which -a python python2 python3\n",
    "- Debemos recibir la version de Python que tenemos instalada\n",
    "\n",
    "### >>>Recomendacion<<<\n",
    "Para trabajar con los ejercicios de SOAI, recomendamos hacer uso de un Linux OS y de un ambiente virtual Python. A continuacion un guia rapida de como crear un ambiente virutal con Python en Linux Ubuntu.  \n",
    "\n",
    "### Como crear un ambiente virutal\n",
    "Primero tenemos que instalar el modulo de venv:\n",
    "\n",
    "    - sudo apt-get update\n",
    "\n",
    "    - sudo apt-get -y upgrade\n",
    "\n",
    "    - sudo apt-get install -y python3-pip\n",
    "\n",
    "    - sudo apt-get install build-essential libssl-dev libffi-dev python-dev\n",
    "\n",
    "    - sudo apt-get install -y python3-venv\n",
    "\n",
    "Una vez instalado el modulo venv podemos crear un ambiente virtual con Python:\n",
    "\n",
    "    - python3 -m venv ejemplo_venv\n",
    "\n",
    "Para poder hacer uso del ambiente virtual tenemos que ir al directorio en donde creamos nuestro ambiente virtual, una vez ahi para activar nuestro ambiente virutal simplemente hacemos:\n",
    "\n",
    "    - source ejemplo_vevn/bin/activate\n",
    "\n",
    "Para dejar de usar el ambiente virutal simplemente escribimos deactivate en la terminal y listo.\n",
    "\n",
    "### Anaconda\n",
    "\n",
    "#### Que es?\n",
    "\n",
    "Anaconda es una distribución de Python gratuita y fácil de instalar, creada para que los desarrolladores y científicos de datos puedan hacer que la administración e implementación de paquetes en computación científica, ciencia de datos, análisis estadístico y aprendizaje automático sean una tarea fácil. Es un software que es producido y distribuido por Continuum Analytics.\n",
    "\n",
    "Para instalar Anaconda tenemos que ir a este [url](https://www.anaconda.com/distribution/) y seleccionar la distribucion para Python 3.x y nuestro sistema operativo.\n",
    "\n",
    "Una vez que descarguemos el instalador podemos verificar su integridad de dos maneras y puedes comparar los hashes de tu archivo instalador [aqui](https://docs.anaconda.com/anaconda/install/hashes/):\n",
    "\n",
    "    - md5sum /Downloads/filename\n",
    "    \n",
    "    - sha256sum /Downloads/filename\n",
    "    \n",
    "Para instalar Anaconda ejecutamos:\n",
    "\n",
    "    - bash ~/Downloads/filename\n",
    "    - Aceptamos los TyC\n",
    "    - Le decimos que si a la opcion de Conda init\n",
    "    - Se nos dara la opcion de bajar Pycharm, no es necesario hacerlo.\n",
    "    - Ejecutamos: \"source ~/.bashrc\" o reiniciamos nuestra computadora\n",
    "    - Abrimos una terminal: \"Ctrl + Alt + t\" y ejecutamos: \"anaconda-navigator\"\n",
    "    - Listo!\n",
    "    \n",
    "\n",
    "    \n",
    "\n",
    "\n",
    "\n",
    "\n",
    "\n"
   ]
  },
  {
   "cell_type": "markdown",
   "metadata": {},
   "source": [
    "\n"
   ]
  }
 ],
 "metadata": {
  "kernelspec": {
   "display_name": "Python 3",
   "language": "python",
   "name": "python3"
  },
  "language_info": {
   "codemirror_mode": {
    "name": "ipython",
    "version": 3
   },
   "file_extension": ".py",
   "mimetype": "text/x-python",
   "name": "python",
   "nbconvert_exporter": "python",
   "pygments_lexer": "ipython3",
   "version": "3.6.7"
  }
 },
 "nbformat": 4,
 "nbformat_minor": 1
}
